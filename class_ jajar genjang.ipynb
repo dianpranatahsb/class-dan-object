class JajarGenjang:
    def __init__(self, alas, tinggi, sisi_miring):
        self.alas = alas
        self.tinggi = tinggi
        self.sisi_miring = sisi_miring
    
    def hitung_luas(self):
        return self.alas * self.tinggi
    
    def hitung_keliling(self):
        return 2 * (self.alas + self.sisi_miring)
    
    def info_bentuk(self):
        print(f"Jajar genjang dengan alas {self.alas}, tinggi {self.tinggi}, dan sisi miring {self.sisi_miring}")

jg = JajarGenjang(8, 12, 10)
jg.info_bentuk()
print(f"Luas jajar genjang: {jg.hitung_luas()}")
print(f"Keliling jajar genjang: {jg.hitung_keliling()}")
