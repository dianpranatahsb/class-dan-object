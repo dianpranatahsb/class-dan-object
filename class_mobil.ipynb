{
  "nbformat": 4,
  "nbformat_minor": 0,
  "metadata": {
    "colab": {
      "provenance": [],
      "name": "class_mobil.ipynb",
      "include_colab_link": true
    },
    "kernelspec": {
      "name": "python3",
      "display_name": "Python 3"
    },
    "language_info": {
      "name": "python"
    }
  },
  "cells": [
    {
      "cell_type": "markdown",
      "metadata": {
        "id": "view-in-github",
        "colab_type": "text"
      },
      "source": [
        "<a href=\"https://colab.research.google.com/github/dianpranatahsb/class-dan-object/blob/main/class_mobil.ipynb\" target=\"_parent\"><img src=\"https://colab.research.google.com/assets/colab-badge.svg\" alt=\"Open In Colab\"/></a>"
      ]
    },
    {
      "cell_type": "code",
      "execution_count": null,
      "metadata": {
        "colab": {
          "base_uri": "https://localhost:8080/"
        },
        "id": "e59GFbCMIcKC",
        "outputId": "b55f1ce3-922f-4920-c211-d39fe72d924a"
      },
      "outputs": [
        {
          "output_type": "stream",
          "name": "stdout",
          "text": [
            "mobil ini bermerek toyota dan model avanza.\n"
          ]
        }
      ],
      "source": [
        "class Mobil:\n",
        "    def __init__(self, merk, model, tahun, warna):\n",
        "        self.merk = merk\n",
        "        self.model = model\n",
        "        self.tahun = tahun\n",
        "        self.warna = warna\n",
        "\n",
        "    def info_mobil(self):\n",
        "        print(f\"Mobil {self.merk} {self.model}, keluaran tahun {self.tahun}, berwarna {self.warna}\")\n",
        "\n",
        "    def nyalakan_mesin(self):\n",
        "        print(f\"Mesin {self.merk} {self.model} dinyalakan!\")\n",
        "\n",
        "    def matikan_mesin(self):\n",
        "        print(f\"Mesin {self.merk} {self.model} dimatikan!\")\n",
        "\n",
        "mb = Mobil(\"Toyota\", \"GR supra\", 2019, \"Putih\")\n",
        "mb.info_mobil()\n",
        "mb.nyalakan_mesin()\n",
        "mb.matikan_mesin()"
      ]
    }
  ]
}