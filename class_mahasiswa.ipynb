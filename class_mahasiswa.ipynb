# kelas Mahasiswa
class Mahasiswa:
    def __init__(self, nama, nim):
        self.nama = nama
        self.nim = nim
        self.krs = []

    def tambah_mata_kuliah(self, mata_kuliah):
        self.krs.append(mata_kuliah)

    def cetak_krs(self):
        print(f"KRS Mahasiswa: {self.nama} (NIM: {self.nim})")
        print("Mata Kuliah:")
        for mk in self.krs:
            print(f"- {mk}")

def main():
    # Membuat objek dari kelas Mahasiswa
    mhs = Mahasiswa("Dian pranata", "230705095")

    # Menambah mata kuliah ke dalam KRS
    mhs.tambah_mata_kuliah("Matematika")
    mhs.tambah_mata_kuliah("PBO")
    mhs.tambah_mata_kuliah("Jaringan komputer")

    # Mencetak KRS
    mhs.cetak_krs()

if __name__ == "__main__":
    main()
